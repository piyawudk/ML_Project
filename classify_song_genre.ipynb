{
 "cells": [
  {
   "cell_type": "markdown",
   "id": "4078d977",
   "metadata": {},
   "source": [
    "### **Classifying Song Genre**"
   ]
  },
  {
   "cell_type": "code",
   "execution_count": 105,
   "id": "3823e3f5",
   "metadata": {
    "dc": {
     "key": "3"
    },
    "tags": [
     "sample_code"
    ]
   },
   "outputs": [
    {
     "name": "stdout",
     "output_type": "stream",
     "text": [
      "<class 'pandas.core.frame.DataFrame'>\n",
      "Int64Index: 4802 entries, 0 to 4801\n",
      "Data columns (total 10 columns):\n",
      " #   Column            Non-Null Count  Dtype  \n",
      "---  ------            --------------  -----  \n",
      " 0   track_id          4802 non-null   int64  \n",
      " 1   acousticness      4802 non-null   float64\n",
      " 2   danceability      4802 non-null   float64\n",
      " 3   energy            4802 non-null   float64\n",
      " 4   instrumentalness  4802 non-null   float64\n",
      " 5   liveness          4802 non-null   float64\n",
      " 6   speechiness       4802 non-null   float64\n",
      " 7   tempo             4802 non-null   float64\n",
      " 8   valence           4802 non-null   float64\n",
      " 9   genre_top         4802 non-null   object \n",
      "dtypes: float64(8), int64(1), object(1)\n",
      "memory usage: 412.7+ KB\n",
      "None\n"
     ]
    }
   ],
   "source": [
    "import pandas as pd\n",
    "\n",
    "# Read in track metadata with genre labels\n",
    "tracks = pd.read_csv('datasets/fma-rock-vs-hiphop.csv')\n",
    "\n",
    "# Read in track metrics with the features\n",
    "echonest_metrics = pd.read_json('datasets/echonest-metrics.json', precise_float=True)\n",
    "\n",
    "# Merge the relevant columns of tracks and echonest_metrics\n",
    "echo_tracks = echonest_metrics.merge(tracks[['genre_top', 'track_id']], on='track_id')\n",
    "\n",
    "# Inspect the resultant dataframe\n",
    "print(echo_tracks.info())"
   ]
  },
  {
   "cell_type": "code",
   "execution_count": 106,
   "id": "5dc9fc7c",
   "metadata": {
    "dc": {
     "key": "10"
    },
    "tags": [
     "sample_code"
    ]
   },
   "outputs": [
    {
     "data": {
      "text/html": [
       "<style type=\"text/css\">\n",
       "#T_8d7ff_row0_col0, #T_8d7ff_row1_col1, #T_8d7ff_row2_col2, #T_8d7ff_row3_col3, #T_8d7ff_row4_col4, #T_8d7ff_row5_col5, #T_8d7ff_row6_col6, #T_8d7ff_row7_col7, #T_8d7ff_row8_col8 {\n",
       "  background-color: #b40426;\n",
       "  color: #f1f1f1;\n",
       "}\n",
       "#T_8d7ff_row0_col1 {\n",
       "  background-color: #6485ec;\n",
       "  color: #f1f1f1;\n",
       "}\n",
       "#T_8d7ff_row0_col2 {\n",
       "  background-color: #8badfd;\n",
       "  color: #000000;\n",
       "}\n",
       "#T_8d7ff_row0_col3 {\n",
       "  background-color: #c1d4f4;\n",
       "  color: #000000;\n",
       "}\n",
       "#T_8d7ff_row0_col4, #T_8d7ff_row1_col0, #T_8d7ff_row1_col2, #T_8d7ff_row1_col3, #T_8d7ff_row1_col7, #T_8d7ff_row2_col5, #T_8d7ff_row3_col1, #T_8d7ff_row4_col0, #T_8d7ff_row4_col6, #T_8d7ff_row4_col8 {\n",
       "  background-color: #3b4cc0;\n",
       "  color: #f1f1f1;\n",
       "}\n",
       "#T_8d7ff_row0_col5 {\n",
       "  background-color: #6180e9;\n",
       "  color: #f1f1f1;\n",
       "}\n",
       "#T_8d7ff_row0_col6 {\n",
       "  background-color: #5e7de7;\n",
       "  color: #f1f1f1;\n",
       "}\n",
       "#T_8d7ff_row0_col7 {\n",
       "  background-color: #5a78e4;\n",
       "  color: #f1f1f1;\n",
       "}\n",
       "#T_8d7ff_row0_col8 {\n",
       "  background-color: #6788ee;\n",
       "  color: #f1f1f1;\n",
       "}\n",
       "#T_8d7ff_row1_col4 {\n",
       "  background-color: #a1c0ff;\n",
       "  color: #000000;\n",
       "}\n",
       "#T_8d7ff_row1_col5, #T_8d7ff_row6_col0 {\n",
       "  background-color: #6e90f2;\n",
       "  color: #f1f1f1;\n",
       "}\n",
       "#T_8d7ff_row1_col6, #T_8d7ff_row6_col8 {\n",
       "  background-color: #7ea1fa;\n",
       "  color: #f1f1f1;\n",
       "}\n",
       "#T_8d7ff_row1_col8, #T_8d7ff_row6_col4 {\n",
       "  background-color: #4a63d3;\n",
       "  color: #f1f1f1;\n",
       "}\n",
       "#T_8d7ff_row2_col0 {\n",
       "  background-color: #9ebeff;\n",
       "  color: #000000;\n",
       "}\n",
       "#T_8d7ff_row2_col1 {\n",
       "  background-color: #799cf8;\n",
       "  color: #f1f1f1;\n",
       "}\n",
       "#T_8d7ff_row2_col3, #T_8d7ff_row5_col3 {\n",
       "  background-color: #b1cbfc;\n",
       "  color: #000000;\n",
       "}\n",
       "#T_8d7ff_row2_col4, #T_8d7ff_row6_col7 {\n",
       "  background-color: #6282ea;\n",
       "  color: #f1f1f1;\n",
       "}\n",
       "#T_8d7ff_row2_col6, #T_8d7ff_row3_col8, #T_8d7ff_row6_col3 {\n",
       "  background-color: #a5c3fe;\n",
       "  color: #000000;\n",
       "}\n",
       "#T_8d7ff_row2_col7 {\n",
       "  background-color: #3e51c5;\n",
       "  color: #f1f1f1;\n",
       "}\n",
       "#T_8d7ff_row2_col8 {\n",
       "  background-color: #dddcdc;\n",
       "  color: #000000;\n",
       "}\n",
       "#T_8d7ff_row3_col0 {\n",
       "  background-color: #a3c2fe;\n",
       "  color: #000000;\n",
       "}\n",
       "#T_8d7ff_row3_col2 {\n",
       "  background-color: #7a9df8;\n",
       "  color: #f1f1f1;\n",
       "}\n",
       "#T_8d7ff_row3_col4 {\n",
       "  background-color: #82a6fb;\n",
       "  color: #f1f1f1;\n",
       "}\n",
       "#T_8d7ff_row3_col5 {\n",
       "  background-color: #6f92f3;\n",
       "  color: #f1f1f1;\n",
       "}\n",
       "#T_8d7ff_row3_col6 {\n",
       "  background-color: #7093f3;\n",
       "  color: #f1f1f1;\n",
       "}\n",
       "#T_8d7ff_row3_col7, #T_8d7ff_row6_col2 {\n",
       "  background-color: #9fbfff;\n",
       "  color: #000000;\n",
       "}\n",
       "#T_8d7ff_row4_col1 {\n",
       "  background-color: #bfd3f6;\n",
       "  color: #000000;\n",
       "}\n",
       "#T_8d7ff_row4_col2 {\n",
       "  background-color: #4c66d6;\n",
       "  color: #f1f1f1;\n",
       "}\n",
       "#T_8d7ff_row4_col3 {\n",
       "  background-color: #a6c4fe;\n",
       "  color: #000000;\n",
       "}\n",
       "#T_8d7ff_row4_col5 {\n",
       "  background-color: #506bda;\n",
       "  color: #f1f1f1;\n",
       "}\n",
       "#T_8d7ff_row4_col7, #T_8d7ff_row7_col5 {\n",
       "  background-color: #5f7fe8;\n",
       "  color: #f1f1f1;\n",
       "}\n",
       "#T_8d7ff_row5_col0, #T_8d7ff_row8_col7 {\n",
       "  background-color: #81a4fb;\n",
       "  color: #f1f1f1;\n",
       "}\n",
       "#T_8d7ff_row5_col1, #T_8d7ff_row6_col1 {\n",
       "  background-color: #afcafc;\n",
       "  color: #000000;\n",
       "}\n",
       "#T_8d7ff_row5_col2 {\n",
       "  background-color: #455cce;\n",
       "  color: #f1f1f1;\n",
       "}\n",
       "#T_8d7ff_row5_col4 {\n",
       "  background-color: #7295f4;\n",
       "  color: #f1f1f1;\n",
       "}\n",
       "#T_8d7ff_row5_col6, #T_8d7ff_row8_col0 {\n",
       "  background-color: #88abfd;\n",
       "  color: #000000;\n",
       "}\n",
       "#T_8d7ff_row5_col7 {\n",
       "  background-color: #5673e0;\n",
       "  color: #f1f1f1;\n",
       "}\n",
       "#T_8d7ff_row5_col8, #T_8d7ff_row8_col5 {\n",
       "  background-color: #5d7ce6;\n",
       "  color: #f1f1f1;\n",
       "}\n",
       "#T_8d7ff_row6_col5 {\n",
       "  background-color: #779af7;\n",
       "  color: #f1f1f1;\n",
       "}\n",
       "#T_8d7ff_row7_col0 {\n",
       "  background-color: #84a7fc;\n",
       "  color: #f1f1f1;\n",
       "}\n",
       "#T_8d7ff_row7_col1 {\n",
       "  background-color: #8caffe;\n",
       "  color: #000000;\n",
       "}\n",
       "#T_8d7ff_row7_col2 {\n",
       "  background-color: #536edd;\n",
       "  color: #f1f1f1;\n",
       "}\n",
       "#T_8d7ff_row7_col3 {\n",
       "  background-color: #d7dce3;\n",
       "  color: #000000;\n",
       "}\n",
       "#T_8d7ff_row7_col4, #T_8d7ff_row7_col8 {\n",
       "  background-color: #89acfd;\n",
       "  color: #000000;\n",
       "}\n",
       "#T_8d7ff_row7_col6 {\n",
       "  background-color: #7da0f9;\n",
       "  color: #f1f1f1;\n",
       "}\n",
       "#T_8d7ff_row8_col1 {\n",
       "  background-color: #92b4fe;\n",
       "  color: #000000;\n",
       "}\n",
       "#T_8d7ff_row8_col2 {\n",
       "  background-color: #e2dad5;\n",
       "  color: #000000;\n",
       "}\n",
       "#T_8d7ff_row8_col3 {\n",
       "  background-color: #d5dbe5;\n",
       "  color: #000000;\n",
       "}\n",
       "#T_8d7ff_row8_col4 {\n",
       "  background-color: #5b7ae5;\n",
       "  color: #f1f1f1;\n",
       "}\n",
       "#T_8d7ff_row8_col6 {\n",
       "  background-color: #8fb1fe;\n",
       "  color: #000000;\n",
       "}\n",
       "</style>\n",
       "<table id=\"T_8d7ff_\">\n",
       "  <thead>\n",
       "    <tr>\n",
       "      <th class=\"blank level0\" >&nbsp;</th>\n",
       "      <th class=\"col_heading level0 col0\" >track_id</th>\n",
       "      <th class=\"col_heading level0 col1\" >acousticness</th>\n",
       "      <th class=\"col_heading level0 col2\" >danceability</th>\n",
       "      <th class=\"col_heading level0 col3\" >energy</th>\n",
       "      <th class=\"col_heading level0 col4\" >instrumentalness</th>\n",
       "      <th class=\"col_heading level0 col5\" >liveness</th>\n",
       "      <th class=\"col_heading level0 col6\" >speechiness</th>\n",
       "      <th class=\"col_heading level0 col7\" >tempo</th>\n",
       "      <th class=\"col_heading level0 col8\" >valence</th>\n",
       "    </tr>\n",
       "  </thead>\n",
       "  <tbody>\n",
       "    <tr>\n",
       "      <th id=\"T_8d7ff_level0_row0\" class=\"row_heading level0 row0\" >track_id</th>\n",
       "      <td id=\"T_8d7ff_row0_col0\" class=\"data row0 col0\" >1.000000</td>\n",
       "      <td id=\"T_8d7ff_row0_col1\" class=\"data row0 col1\" >-0.279829</td>\n",
       "      <td id=\"T_8d7ff_row0_col2\" class=\"data row0 col2\" >0.102056</td>\n",
       "      <td id=\"T_8d7ff_row0_col3\" class=\"data row0 col3\" >0.121991</td>\n",
       "      <td id=\"T_8d7ff_row0_col4\" class=\"data row0 col4\" >-0.283206</td>\n",
       "      <td id=\"T_8d7ff_row0_col5\" class=\"data row0 col5\" >-0.004059</td>\n",
       "      <td id=\"T_8d7ff_row0_col6\" class=\"data row0 col6\" >-0.075077</td>\n",
       "      <td id=\"T_8d7ff_row0_col7\" class=\"data row0 col7\" >0.004313</td>\n",
       "      <td id=\"T_8d7ff_row0_col8\" class=\"data row0 col8\" >0.020201</td>\n",
       "    </tr>\n",
       "    <tr>\n",
       "      <th id=\"T_8d7ff_level0_row1\" class=\"row_heading level0 row1\" >acousticness</th>\n",
       "      <td id=\"T_8d7ff_row1_col0\" class=\"data row1 col0\" >-0.279829</td>\n",
       "      <td id=\"T_8d7ff_row1_col1\" class=\"data row1 col1\" >1.000000</td>\n",
       "      <td id=\"T_8d7ff_row1_col2\" class=\"data row1 col2\" >-0.189599</td>\n",
       "      <td id=\"T_8d7ff_row1_col3\" class=\"data row1 col3\" >-0.477273</td>\n",
       "      <td id=\"T_8d7ff_row1_col4\" class=\"data row1 col4\" >0.110033</td>\n",
       "      <td id=\"T_8d7ff_row1_col5\" class=\"data row1 col5\" >0.041319</td>\n",
       "      <td id=\"T_8d7ff_row1_col6\" class=\"data row1 col6\" >0.038785</td>\n",
       "      <td id=\"T_8d7ff_row1_col7\" class=\"data row1 col7\" >-0.110701</td>\n",
       "      <td id=\"T_8d7ff_row1_col8\" class=\"data row1 col8\" >-0.085436</td>\n",
       "    </tr>\n",
       "    <tr>\n",
       "      <th id=\"T_8d7ff_level0_row2\" class=\"row_heading level0 row2\" >danceability</th>\n",
       "      <td id=\"T_8d7ff_row2_col0\" class=\"data row2 col0\" >0.102056</td>\n",
       "      <td id=\"T_8d7ff_row2_col1\" class=\"data row2 col1\" >-0.189599</td>\n",
       "      <td id=\"T_8d7ff_row2_col2\" class=\"data row2 col2\" >1.000000</td>\n",
       "      <td id=\"T_8d7ff_row2_col3\" class=\"data row2 col3\" >0.045345</td>\n",
       "      <td id=\"T_8d7ff_row2_col4\" class=\"data row2 col4\" >-0.118033</td>\n",
       "      <td id=\"T_8d7ff_row2_col5\" class=\"data row2 col5\" >-0.143339</td>\n",
       "      <td id=\"T_8d7ff_row2_col6\" class=\"data row2 col6\" >0.171311</td>\n",
       "      <td id=\"T_8d7ff_row2_col7\" class=\"data row2 col7\" >-0.094352</td>\n",
       "      <td id=\"T_8d7ff_row2_col8\" class=\"data row2 col8\" >0.428515</td>\n",
       "    </tr>\n",
       "    <tr>\n",
       "      <th id=\"T_8d7ff_level0_row3\" class=\"row_heading level0 row3\" >energy</th>\n",
       "      <td id=\"T_8d7ff_row3_col0\" class=\"data row3 col0\" >0.121991</td>\n",
       "      <td id=\"T_8d7ff_row3_col1\" class=\"data row3 col1\" >-0.477273</td>\n",
       "      <td id=\"T_8d7ff_row3_col2\" class=\"data row3 col2\" >0.045345</td>\n",
       "      <td id=\"T_8d7ff_row3_col3\" class=\"data row3 col3\" >1.000000</td>\n",
       "      <td id=\"T_8d7ff_row3_col4\" class=\"data row3 col4\" >-0.002412</td>\n",
       "      <td id=\"T_8d7ff_row3_col5\" class=\"data row3 col5\" >0.045752</td>\n",
       "      <td id=\"T_8d7ff_row3_col6\" class=\"data row3 col6\" >-0.008645</td>\n",
       "      <td id=\"T_8d7ff_row3_col7\" class=\"data row3 col7\" >0.227324</td>\n",
       "      <td id=\"T_8d7ff_row3_col8\" class=\"data row3 col8\" >0.219384</td>\n",
       "    </tr>\n",
       "    <tr>\n",
       "      <th id=\"T_8d7ff_level0_row4\" class=\"row_heading level0 row4\" >instrumentalness</th>\n",
       "      <td id=\"T_8d7ff_row4_col0\" class=\"data row4 col0\" >-0.283206</td>\n",
       "      <td id=\"T_8d7ff_row4_col1\" class=\"data row4 col1\" >0.110033</td>\n",
       "      <td id=\"T_8d7ff_row4_col2\" class=\"data row4 col2\" >-0.118033</td>\n",
       "      <td id=\"T_8d7ff_row4_col3\" class=\"data row4 col3\" >-0.002412</td>\n",
       "      <td id=\"T_8d7ff_row4_col4\" class=\"data row4 col4\" >1.000000</td>\n",
       "      <td id=\"T_8d7ff_row4_col5\" class=\"data row4 col5\" >-0.058593</td>\n",
       "      <td id=\"T_8d7ff_row4_col6\" class=\"data row4 col6\" >-0.216689</td>\n",
       "      <td id=\"T_8d7ff_row4_col7\" class=\"data row4 col7\" >0.023003</td>\n",
       "      <td id=\"T_8d7ff_row4_col8\" class=\"data row4 col8\" >-0.145200</td>\n",
       "    </tr>\n",
       "    <tr>\n",
       "      <th id=\"T_8d7ff_level0_row5\" class=\"row_heading level0 row5\" >liveness</th>\n",
       "      <td id=\"T_8d7ff_row5_col0\" class=\"data row5 col0\" >-0.004059</td>\n",
       "      <td id=\"T_8d7ff_row5_col1\" class=\"data row5 col1\" >0.041319</td>\n",
       "      <td id=\"T_8d7ff_row5_col2\" class=\"data row5 col2\" >-0.143339</td>\n",
       "      <td id=\"T_8d7ff_row5_col3\" class=\"data row5 col3\" >0.045752</td>\n",
       "      <td id=\"T_8d7ff_row5_col4\" class=\"data row5 col4\" >-0.058593</td>\n",
       "      <td id=\"T_8d7ff_row5_col5\" class=\"data row5 col5\" >1.000000</td>\n",
       "      <td id=\"T_8d7ff_row5_col6\" class=\"data row5 col6\" >0.073104</td>\n",
       "      <td id=\"T_8d7ff_row5_col7\" class=\"data row5 col7\" >-0.007566</td>\n",
       "      <td id=\"T_8d7ff_row5_col8\" class=\"data row5 col8\" >-0.017886</td>\n",
       "    </tr>\n",
       "    <tr>\n",
       "      <th id=\"T_8d7ff_level0_row6\" class=\"row_heading level0 row6\" >speechiness</th>\n",
       "      <td id=\"T_8d7ff_row6_col0\" class=\"data row6 col0\" >-0.075077</td>\n",
       "      <td id=\"T_8d7ff_row6_col1\" class=\"data row6 col1\" >0.038785</td>\n",
       "      <td id=\"T_8d7ff_row6_col2\" class=\"data row6 col2\" >0.171311</td>\n",
       "      <td id=\"T_8d7ff_row6_col3\" class=\"data row6 col3\" >-0.008645</td>\n",
       "      <td id=\"T_8d7ff_row6_col4\" class=\"data row6 col4\" >-0.216689</td>\n",
       "      <td id=\"T_8d7ff_row6_col5\" class=\"data row6 col5\" >0.073104</td>\n",
       "      <td id=\"T_8d7ff_row6_col6\" class=\"data row6 col6\" >1.000000</td>\n",
       "      <td id=\"T_8d7ff_row6_col7\" class=\"data row6 col7\" >0.032188</td>\n",
       "      <td id=\"T_8d7ff_row6_col8\" class=\"data row6 col8\" >0.094794</td>\n",
       "    </tr>\n",
       "    <tr>\n",
       "      <th id=\"T_8d7ff_level0_row7\" class=\"row_heading level0 row7\" >tempo</th>\n",
       "      <td id=\"T_8d7ff_row7_col0\" class=\"data row7 col0\" >0.004313</td>\n",
       "      <td id=\"T_8d7ff_row7_col1\" class=\"data row7 col1\" >-0.110701</td>\n",
       "      <td id=\"T_8d7ff_row7_col2\" class=\"data row7 col2\" >-0.094352</td>\n",
       "      <td id=\"T_8d7ff_row7_col3\" class=\"data row7 col3\" >0.227324</td>\n",
       "      <td id=\"T_8d7ff_row7_col4\" class=\"data row7 col4\" >0.023003</td>\n",
       "      <td id=\"T_8d7ff_row7_col5\" class=\"data row7 col5\" >-0.007566</td>\n",
       "      <td id=\"T_8d7ff_row7_col6\" class=\"data row7 col6\" >0.032188</td>\n",
       "      <td id=\"T_8d7ff_row7_col7\" class=\"data row7 col7\" >1.000000</td>\n",
       "      <td id=\"T_8d7ff_row7_col8\" class=\"data row7 col8\" >0.129911</td>\n",
       "    </tr>\n",
       "    <tr>\n",
       "      <th id=\"T_8d7ff_level0_row8\" class=\"row_heading level0 row8\" >valence</th>\n",
       "      <td id=\"T_8d7ff_row8_col0\" class=\"data row8 col0\" >0.020201</td>\n",
       "      <td id=\"T_8d7ff_row8_col1\" class=\"data row8 col1\" >-0.085436</td>\n",
       "      <td id=\"T_8d7ff_row8_col2\" class=\"data row8 col2\" >0.428515</td>\n",
       "      <td id=\"T_8d7ff_row8_col3\" class=\"data row8 col3\" >0.219384</td>\n",
       "      <td id=\"T_8d7ff_row8_col4\" class=\"data row8 col4\" >-0.145200</td>\n",
       "      <td id=\"T_8d7ff_row8_col5\" class=\"data row8 col5\" >-0.017886</td>\n",
       "      <td id=\"T_8d7ff_row8_col6\" class=\"data row8 col6\" >0.094794</td>\n",
       "      <td id=\"T_8d7ff_row8_col7\" class=\"data row8 col7\" >0.129911</td>\n",
       "      <td id=\"T_8d7ff_row8_col8\" class=\"data row8 col8\" >1.000000</td>\n",
       "    </tr>\n",
       "  </tbody>\n",
       "</table>\n"
      ],
      "text/plain": [
       "<pandas.io.formats.style.Styler at 0x219a02cb5e0>"
      ]
     },
     "execution_count": 106,
     "metadata": {},
     "output_type": "execute_result"
    }
   ],
   "source": [
    "import matplotlib.pyplot as plt\n",
    "\n",
    "# Correlation matrix\n",
    "corr_metrics = echonest_metrics.corr()\n",
    "corr_metrics.style.background_gradient(cmap='coolwarm')"
   ]
  },
  {
   "cell_type": "markdown",
   "id": "67372850",
   "metadata": {},
   "source": [
    "No strong correlations between the features. We can split the data, normalize, and reduce the number of features using PCA."
   ]
  },
  {
   "cell_type": "code",
   "execution_count": 107,
   "id": "9c1ba80e",
   "metadata": {
    "dc": {
     "key": "17"
    },
    "tags": [
     "sample_code"
    ]
   },
   "outputs": [],
   "source": [
    "# Split data\n",
    "from sklearn.model_selection import train_test_split\n",
    "\n",
    "# Create features\n",
    "features = echo_tracks.drop([\"genre_top\", \"track_id\"], axis=1).values\n",
    "\n",
    "# Create labels\n",
    "labels = echo_tracks[\"genre_top\"].values\n",
    "\n",
    "# Split our data\n",
    "train_features, test_features, train_labels, test_labels = train_test_split(features, labels, random_state=10)"
   ]
  },
  {
   "cell_type": "code",
   "execution_count": 108,
   "id": "86e2355d",
   "metadata": {
    "dc": {
     "key": "24"
    },
    "tags": [
     "sample_code"
    ]
   },
   "outputs": [],
   "source": [
    "# Standardize data\n",
    "from sklearn.preprocessing import StandardScaler\n",
    "\n",
    "# Scale the features and set the values to a new variable\n",
    "scaler = StandardScaler()\n",
    "\n",
    "# Scale train_features and test_features\n",
    "scaled_train_features = scaler.fit_transform(train_features)\n",
    "scaled_test_features = scaler.transform(test_features)"
   ]
  },
  {
   "cell_type": "code",
   "execution_count": 109,
   "id": "a2be852a",
   "metadata": {},
   "outputs": [
    {
     "data": {
      "text/plain": [
       "Text(0.5, 0, 'Principal Component #')"
      ]
     },
     "execution_count": 109,
     "metadata": {},
     "output_type": "execute_result"
    },
    {
     "data": {
      "image/png": "[encoded data removed]",
      "text/plain": [
       "<Figure size 432x288 with 1 Axes>"
      ]
     },
     "metadata": {
      "needs_background": "light"
     },
     "output_type": "display_data"
    }
   ],
   "source": [
    "# Apply PCA \n",
    "import matplotlib.pyplot as plt\n",
    "from sklearn.decomposition import PCA\n",
    "\n",
    "# Get our explained variance ratios from PCA using all features\n",
    "pca = PCA()\n",
    "pca.fit(scaled_train_features)\n",
    "exp_variance = pca.explained_variance_ratio_\n",
    "\n",
    "# plot the explained variance using a barplot\n",
    "fig, ax = plt.subplots()\n",
    "ax.bar(range(pca.n_components_), exp_variance)\n",
    "ax.set_xlabel('Principal Component #')"
   ]
  },
  {
   "cell_type": "markdown",
   "id": "f9a27d6a",
   "metadata": {},
   "source": [
    "No clear elbow in this scree plot. Let's try cumulative explained variance plot that determine how many features are required to explain. Let's do 85%."
   ]
  },
  {
   "cell_type": "code",
   "execution_count": 110,
   "id": "f5533f8a",
   "metadata": {
    "dc": {
     "key": "38"
    },
    "tags": [
     "sample_code"
    ]
   },
   "outputs": [
    {
     "data": {
      "text/plain": [
       "Text(0.5, 0, 'features #')"
      ]
     },
     "execution_count": 110,
     "metadata": {},
     "output_type": "execute_result"
    },
    {
     "data": {
      "image/png": "[encoded data removed]",
      "text/plain": [
       "<Figure size 432x288 with 1 Axes>"
      ]
     },
     "metadata": {
      "needs_background": "light"
     },
     "output_type": "display_data"
    }
   ],
   "source": [
    "import numpy as np\n",
    "\n",
    "# Calculate the cumulative explained variance\n",
    "cum_exp_variance = np.cumsum(exp_variance)\n",
    "\n",
    "# Plot the cumulative explained variance and draw a dashed line at 0.85.\n",
    "fig, ax = plt.subplots()\n",
    "ax.plot(cum_exp_variance)\n",
    "ax.axhline(y=0.85, linestyle='--')\n",
    "ax.set_xlabel('features #')"
   ]
  },
  {
   "cell_type": "markdown",
   "id": "0d8379e9",
   "metadata": {},
   "source": [
    "We can see that feature 6 (index start at 0) can explain 85% of variences. Let's try PCA with 6 components and reduce dimensionality."
   ]
  },
  {
   "cell_type": "code",
   "execution_count": 111,
   "id": "b47eea4f",
   "metadata": {},
   "outputs": [],
   "source": [
    "# Perform PCA with the chosen number of components and project data onto components\n",
    "pca = PCA(n_components=6, random_state=10)\n",
    "\n",
    "# Fit and transform the scaled training features using pca\n",
    "train_pca = pca.fit_transform(scaled_train_features)\n",
    "\n",
    "# Fit and transform the scaled test features using pca\n",
    "test_pca = pca.transform(scaled_test_features)"
   ]
  },
  {
   "cell_type": "markdown",
   "id": "b905178c",
   "metadata": {},
   "source": [
    "Let's apply decision tree"
   ]
  },
  {
   "cell_type": "code",
   "execution_count": 112,
   "id": "500406c8",
   "metadata": {},
   "outputs": [
    {
     "name": "stdout",
     "output_type": "stream",
     "text": [
      "Decision Tree: \n",
      "               precision    recall  f1-score   support\n",
      "\n",
      "     Hip-Hop       0.63      0.62      0.62       235\n",
      "        Rock       0.91      0.91      0.91       966\n",
      "\n",
      "    accuracy                           0.85      1201\n",
      "   macro avg       0.77      0.77      0.77      1201\n",
      "weighted avg       0.85      0.85      0.85      1201\n",
      "\n"
     ]
    }
   ],
   "source": [
    "# Import Decision tree classifier\n",
    "from sklearn.tree import DecisionTreeClassifier\n",
    "from sklearn.metrics import classification_report\n",
    "\n",
    "# Create our decision tree\n",
    "tree = DecisionTreeClassifier(random_state=10)\n",
    "\n",
    "# Train our decision tree\n",
    "tree.fit(train_pca, train_labels)\n",
    "\n",
    "# Predict the labels for the test data\n",
    "pred_labels_tree = tree.predict(test_pca)\n",
    "\n",
    "class_rep_tree = classification_report(test_labels, pred_labels_tree)\n",
    "print(\"Decision Tree: \\n\", class_rep_tree)"
   ]
  },
  {
   "cell_type": "markdown",
   "id": "d1d25d5f",
   "metadata": {},
   "source": [
    "85% is decent, but let's not call it a day. Let's try Logistic Regression."
   ]
  },
  {
   "cell_type": "code",
   "execution_count": 113,
   "id": "28d54a37",
   "metadata": {},
   "outputs": [
    {
     "name": "stdout",
     "output_type": "stream",
     "text": [
      "Logistic Regression: \n",
      "               precision    recall  f1-score   support\n",
      "\n",
      "     Hip-Hop       0.77      0.54      0.64       235\n",
      "        Rock       0.90      0.96      0.93       966\n",
      "\n",
      "    accuracy                           0.88      1201\n",
      "   macro avg       0.83      0.75      0.78      1201\n",
      "weighted avg       0.87      0.88      0.87      1201\n",
      "\n"
     ]
    }
   ],
   "source": [
    "# Import LogisticRegression\n",
    "from sklearn.linear_model import LogisticRegression\n",
    "\n",
    "# Train our logisitic regression\n",
    "logreg = LogisticRegression(random_state=10)\n",
    "logreg.fit(train_pca, train_labels)\n",
    "pred_labels_logit = logreg.predict(test_pca)\n",
    "\n",
    "class_rep_log = classification_report(test_labels, pred_labels_logit)\n",
    "print(\"Logistic Regression: \\n\", class_rep_log)"
   ]
  },
  {
   "cell_type": "markdown",
   "id": "9df33b2a",
   "metadata": {},
   "source": [
    "Logistic Regression tree has a slightly better performance than Decision Tree so let's stick with that. However, Our Hip-Hop classification is not that good. \n",
    "\n",
    "It seems that we have more data points for hip-hop than rock, so it look like our model can only classify just rock song. Let's account for differences in sample size."
   ]
  },
  {
   "cell_type": "code",
   "execution_count": 114,
   "id": "e7c654ed",
   "metadata": {
    "dc": {
     "key": "66"
    },
    "tags": [
     "sample_code"
    ]
   },
   "outputs": [],
   "source": [
    "# Subset a balanced proportion of data points\n",
    "hop_only = echo_tracks.loc[echo_tracks['genre_top'] == 'Hip-Hop']\n",
    "rock_only = echo_tracks.loc[echo_tracks['genre_top'] == 'Rock']\n",
    "\n",
    "# subset only the rock songs, and take a sample the same size as there are hip-hop songs\n",
    "rock_only = rock_only.sample(hop_only.shape[0], random_state=10)\n",
    "\n",
    "# concatenate the dataframes hop_only and rock_only\n",
    "rock_hop_bal = pd.concat([rock_only, hop_only])\n",
    "\n",
    "# The features, labels, and pca projection are created for the balanced dataframe\n",
    "features = rock_hop_bal.drop(['genre_top', 'track_id'], axis=1) \n",
    "labels = rock_hop_bal['genre_top']\n",
    "\n",
    "# Redefine the train and test set with the pca_projection from the balanced data\n",
    "train_features, test_features, train_labels, test_labels = train_test_split(\n",
    "    features, labels, random_state=10)\n",
    "\n",
    "train_pca = pca.fit_transform(scaler.fit_transform(train_features))\n",
    "test_pca = pca.transform(scaler.transform(test_features))"
   ]
  },
  {
   "cell_type": "markdown",
   "id": "0e72a360",
   "metadata": {},
   "source": [
    "Let's see if the bias towards 'rock' is removed while maintaining the model performance."
   ]
  },
  {
   "cell_type": "code",
   "execution_count": 115,
   "id": "1f08efec",
   "metadata": {
    "dc": {
     "key": "73"
    },
    "tags": [
     "sample_code"
    ]
   },
   "outputs": [
    {
     "name": "stdout",
     "output_type": "stream",
     "text": [
      "Decision Tree: \n",
      "               precision    recall  f1-score   support\n",
      "\n",
      "     Hip-Hop       0.82      0.77      0.79       230\n",
      "        Rock       0.78      0.82      0.80       225\n",
      "\n",
      "    accuracy                           0.80       455\n",
      "   macro avg       0.80      0.80      0.80       455\n",
      "weighted avg       0.80      0.80      0.80       455\n",
      "\n",
      "Logistic Regression: \n",
      "               precision    recall  f1-score   support\n",
      "\n",
      "     Hip-Hop       0.84      0.80      0.82       230\n",
      "        Rock       0.81      0.85      0.83       225\n",
      "\n",
      "    accuracy                           0.82       455\n",
      "   macro avg       0.82      0.82      0.82       455\n",
      "weighted avg       0.83      0.82      0.82       455\n",
      "\n"
     ]
    }
   ],
   "source": [
    "# Train our decision tree on the balanced data\n",
    "tree = DecisionTreeClassifier(random_state=10)\n",
    "tree.fit(train_pca, train_labels)\n",
    "pred_labels_tree = tree.predict(test_pca)\n",
    "\n",
    "# Train our logistic regression on the balanced data\n",
    "logreg = LogisticRegression(random_state=10)\n",
    "logreg.fit(train_pca, train_labels)\n",
    "pred_labels_logit = logreg.predict(test_pca)\n",
    "\n",
    "# compare the models\n",
    "print(\"Decision Tree: \\n\", classification_report(test_labels, pred_labels_tree))\n",
    "print(\"Logistic Regression: \\n\", classification_report(test_labels, pred_labels_logit))"
   ]
  },
  {
   "cell_type": "markdown",
   "id": "cad996bf",
   "metadata": {},
   "source": [
    "Nice. It seems like we dont have any bias anymore while our model performance is 80%. Let's try cross-validation to check the model actual performance."
   ]
  },
  {
   "cell_type": "code",
   "execution_count": 116,
   "id": "53916d51",
   "metadata": {
    "dc": {
     "key": "80"
    },
    "tags": [
     "sample_code"
    ]
   },
   "outputs": [
    {
     "name": "stdout",
     "output_type": "stream",
     "text": [
      "Decision Tree: 0.7582417582417582 Logistic Regression: 0.782967032967033\n"
     ]
    }
   ],
   "source": [
    "from sklearn.model_selection import KFold, cross_val_score\n",
    "from sklearn.pipeline import Pipeline\n",
    "tree_pipe = Pipeline([(\"scaler\", StandardScaler()), (\"pca\", PCA(n_components=6)), \n",
    "                      (\"tree\", DecisionTreeClassifier(random_state=10))])\n",
    "logreg_pipe = Pipeline([(\"scaler\", StandardScaler()), (\"pca\", PCA(n_components=6)), \n",
    "                        (\"logreg\", LogisticRegression(random_state=10))])\n",
    "\n",
    "# Set up our K-fold cross-validation\n",
    "kf = KFold(10)\n",
    "\n",
    "# Train our models using KFold cv\n",
    "tree_score = cross_val_score(tree_pipe, features, labels, cv=kf)\n",
    "logit_score = cross_val_score(logreg_pipe, features, labels, cv=kf)\n",
    "\n",
    "# Print the mean of each array o scores\n",
    "print(\"Decision Tree:\", np.mean(tree_score), \"Logistic Regression:\", np.mean(logit_score))"
   ]
  },
  {
   "cell_type": "markdown",
   "id": "eb6cc824",
   "metadata": {},
   "source": [
    "75% and 78%, not that bad. I would call it a success."
   ]
  }
 ],
 "metadata": {
  "kernelspec": {
   "display_name": "Python 3 (ipykernel)",
   "language": "python",
   "name": "python3"
  },
  "language_info": {
   "codemirror_mode": {
    "name": "ipython",
    "version": 3
   },
   "file_extension": ".py",
   "mimetype": "text/x-python",
   "name": "python",
   "nbconvert_exporter": "python",
   "pygments_lexer": "ipython3",
   "version": "3.9.7"
  }
 },
 "nbformat": 4,
 "nbformat_minor": 5
}
